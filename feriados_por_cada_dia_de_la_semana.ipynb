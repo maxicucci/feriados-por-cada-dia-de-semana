{
  "nbformat": 4,
  "nbformat_minor": 0,
  "metadata": {
    "colab": {
      "name": "feriados por cada dia de la semana.ipynb",
      "provenance": [],
      "collapsed_sections": [],
      "authorship_tag": "ABX9TyOOj/GZQaS4Q18YDgVAPRnG",
      "include_colab_link": true
    },
    "kernelspec": {
      "name": "python3",
      "display_name": "Python 3"
    },
    "language_info": {
      "name": "python"
    }
  },
  "cells": [
    {
      "cell_type": "markdown",
      "metadata": {
        "id": "view-in-github",
        "colab_type": "text"
      },
      "source": [
        "<a href=\"https://colab.research.google.com/github/maxicucci/feriados-por-cada-dia-de-semana/blob/main/feriados_por_cada_dia_de_la_semana.ipynb\" target=\"_parent\"><img src=\"https://colab.research.google.com/assets/colab-badge.svg\" alt=\"Open In Colab\"/></a>"
      ]
    },
    {
      "cell_type": "code",
      "execution_count": 1,
      "metadata": {
        "colab": {
          "base_uri": "https://localhost:8080/"
        },
        "id": "3SfougtM96-U",
        "outputId": "7d292857-df28-49fa-f7e1-27f484ec8dd9"
      },
      "outputs": [
        {
          "output_type": "stream",
          "name": "stdout",
          "text": [
            "Collecting workalendar\n",
            "  Downloading workalendar-16.3.0-py3-none-any.whl (208 kB)\n",
            "\u001b[?25l\r\u001b[K     |█▋                              | 10 kB 22.7 MB/s eta 0:00:01\r\u001b[K     |███▏                            | 20 kB 13.8 MB/s eta 0:00:01\r\u001b[K     |████▊                           | 30 kB 10.6 MB/s eta 0:00:01\r\u001b[K     |██████▎                         | 40 kB 4.7 MB/s eta 0:00:01\r\u001b[K     |███████▉                        | 51 kB 4.6 MB/s eta 0:00:01\r\u001b[K     |█████████▍                      | 61 kB 5.4 MB/s eta 0:00:01\r\u001b[K     |███████████                     | 71 kB 5.9 MB/s eta 0:00:01\r\u001b[K     |████████████▋                   | 81 kB 5.7 MB/s eta 0:00:01\r\u001b[K     |██████████████▏                 | 92 kB 6.3 MB/s eta 0:00:01\r\u001b[K     |███████████████▊                | 102 kB 5.4 MB/s eta 0:00:01\r\u001b[K     |█████████████████▎              | 112 kB 5.4 MB/s eta 0:00:01\r\u001b[K     |██████████████████▉             | 122 kB 5.4 MB/s eta 0:00:01\r\u001b[K     |████████████████████▍           | 133 kB 5.4 MB/s eta 0:00:01\r\u001b[K     |██████████████████████          | 143 kB 5.4 MB/s eta 0:00:01\r\u001b[K     |███████████████████████▌        | 153 kB 5.4 MB/s eta 0:00:01\r\u001b[K     |█████████████████████████▏      | 163 kB 5.4 MB/s eta 0:00:01\r\u001b[K     |██████████████████████████▊     | 174 kB 5.4 MB/s eta 0:00:01\r\u001b[K     |████████████████████████████▎   | 184 kB 5.4 MB/s eta 0:00:01\r\u001b[K     |█████████████████████████████▉  | 194 kB 5.4 MB/s eta 0:00:01\r\u001b[K     |███████████████████████████████▍| 204 kB 5.4 MB/s eta 0:00:01\r\u001b[K     |████████████████████████████████| 208 kB 5.4 MB/s \n",
            "\u001b[?25hCollecting lunardate\n",
            "  Downloading lunardate-0.2.0-py3-none-any.whl (5.6 kB)\n",
            "Requirement already satisfied: python-dateutil in /usr/local/lib/python3.7/dist-packages (from workalendar) (2.8.2)\n",
            "Requirement already satisfied: importlib-metadata in /usr/local/lib/python3.7/dist-packages (from workalendar) (4.11.2)\n",
            "Collecting backports.zoneinfo\n",
            "  Downloading backports.zoneinfo-0.2.1-cp37-cp37m-manylinux1_x86_64.whl (70 kB)\n",
            "\u001b[K     |████████████████████████████████| 70 kB 7.2 MB/s \n",
            "\u001b[?25hCollecting pyluach\n",
            "  Downloading pyluach-1.4.0-py3-none-any.whl (18 kB)\n",
            "Requirement already satisfied: convertdate in /usr/local/lib/python3.7/dist-packages (from workalendar) (2.4.0)\n",
            "Requirement already satisfied: pymeeus<=1,>=0.3.13 in /usr/local/lib/python3.7/dist-packages (from convertdate->workalendar) (0.5.11)\n",
            "Requirement already satisfied: zipp>=0.5 in /usr/local/lib/python3.7/dist-packages (from importlib-metadata->workalendar) (3.7.0)\n",
            "Requirement already satisfied: typing-extensions>=3.6.4 in /usr/local/lib/python3.7/dist-packages (from importlib-metadata->workalendar) (3.10.0.2)\n",
            "Requirement already satisfied: six>=1.5 in /usr/local/lib/python3.7/dist-packages (from python-dateutil->workalendar) (1.15.0)\n",
            "Installing collected packages: pyluach, lunardate, backports.zoneinfo, workalendar\n",
            "Successfully installed backports.zoneinfo-0.2.1 lunardate-0.2.0 pyluach-1.4.0 workalendar-16.3.0\n"
          ]
        }
      ],
      "source": [
        "pip install workalendar"
      ]
    },
    {
      "cell_type": "code",
      "source": [
        "import pandas as pd\n",
        "from workalendar.america import Argentina\n",
        "cal = Argentina()\n",
        "feriados=cal.holidays(2022)\n",
        "\n",
        "df=pd.DataFrame(feriados,columns=['fecha','nombre'])\n",
        "df['fecha']=pd.to_datetime(df['fecha'])\n",
        "df['fecha'] = df['fecha'].dt.day_name()\n",
        "df=df.groupby('fecha').count()\n",
        "print(df)"
      ],
      "metadata": {
        "colab": {
          "base_uri": "https://localhost:8080/"
        },
        "id": "_dnEvuTk-u8W",
        "outputId": "febffca0-97ff-4045-a2c7-ae94ed6ca973"
      },
      "execution_count": 16,
      "outputs": [
        {
          "output_type": "stream",
          "name": "stdout",
          "text": [
            "           nombre\n",
            "fecha            \n",
            "Friday          2\n",
            "Monday          5\n",
            "Saturday        4\n",
            "Sunday          3\n",
            "Thursday        2\n",
            "Tuesday         1\n",
            "Wednesday       1\n"
          ]
        }
      ]
    }
  ]
}